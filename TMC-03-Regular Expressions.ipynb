{
 "cells": [
  {
   "cell_type": "markdown",
   "metadata": {},
   "source": [
    "<font size=\"5\">What are regular expressions?</font>\n"
   ]
  },
  {
   "cell_type": "code",
   "execution_count": null,
   "metadata": {},
   "outputs": [],
   "source": [
    "# Regular expressions\n",
    "'''\n",
    "'nlp' will look for nlp\n",
    "'[j-q]' will look for a single character in between j and q\n",
    "'[j-q]+' will look for more than a single character between j and q\n",
    "'[0-9]+' will look for all digits between 0-9 and return the complete sequence\n",
    "'[0-9a-z]+' will look for sequences of char between a-z and numbers and 0-9 and return\n",
    "Regex are useful in identifying white spaces between words/ tokens, removing punctuations and numbers from text\n",
    "Identifying creating delimiters or end of line escape chharacters, cleaning HTML tags from text, identify some particular \n",
    "patterns you are interested in.\n",
    "\n",
    "Confirming passwords meet criteria, filenames, searching URL for substring,\n",
    "searching for files in your computer, document scraping\n",
    "\n",
    "'''"
   ]
  },
  {
   "cell_type": "code",
   "execution_count": 5,
   "metadata": {},
   "outputs": [],
   "source": [
    "import re # the package for regular expressions\n",
    "\n",
    "re_test = 'This is a made up string to test 2 different regex methods'\n",
    "re_test_messy = 'This is a    made     up string to test 2 different regex methods'\n",
    "re_test_messy_1 = 'This-is-a-made up string*to>>>test-------2\"\"\"\"\"\"diffferent-regex-methods'"
   ]
  },
  {
   "cell_type": "markdown",
   "metadata": {},
   "source": [
    "<font size=\"5\">Splitting into a list of words</font>\n"
   ]
  },
  {
   "cell_type": "code",
   "execution_count": 7,
   "metadata": {},
   "outputs": [
    {
     "data": {
      "text/plain": [
       "['This',\n",
       " 'is',\n",
       " 'a',\n",
       " 'made',\n",
       " 'up',\n",
       " 'string',\n",
       " 'to',\n",
       " 'test',\n",
       " '2',\n",
       " 'different',\n",
       " 'regex',\n",
       " 'methods']"
      ]
     },
     "execution_count": 7,
     "metadata": {},
     "output_type": "execute_result"
    }
   ],
   "source": [
    "re.split('\\s',re_test)"
   ]
  },
  {
   "cell_type": "code",
   "execution_count": 13,
   "metadata": {},
   "outputs": [
    {
     "data": {
      "text/plain": [
       "['This',\n",
       " 'is',\n",
       " 'a',\n",
       " 'made',\n",
       " 'up',\n",
       " 'string',\n",
       " 'to',\n",
       " 'test',\n",
       " '2',\n",
       " 'different',\n",
       " 'regex',\n",
       " 'methods']"
      ]
     },
     "execution_count": 13,
     "metadata": {},
     "output_type": "execute_result"
    }
   ],
   "source": [
    "re.split('\\s',re_test_messy)\n",
    "re.split('\\s+',re_test_messy)"
   ]
  },
  {
   "cell_type": "code",
   "execution_count": 14,
   "metadata": {},
   "outputs": [
    {
     "data": {
      "text/plain": [
       "['This-is-a-made',\n",
       " 'up',\n",
       " 'string*to>>>test-------2\"\"\"\"\"\"diffferent-regex-methods']"
      ]
     },
     "execution_count": 14,
     "metadata": {},
     "output_type": "execute_result"
    }
   ],
   "source": [
    "re.split('\\s+',re_test_messy_1)"
   ]
  },
  {
   "cell_type": "code",
   "execution_count": 16,
   "metadata": {},
   "outputs": [
    {
     "data": {
      "text/plain": [
       "['This',\n",
       " 'is',\n",
       " 'a',\n",
       " 'made',\n",
       " 'up',\n",
       " 'string',\n",
       " 'to',\n",
       " 'test',\n",
       " '2',\n",
       " 'diffferent',\n",
       " 'regex',\n",
       " 'methods']"
      ]
     },
     "execution_count": 16,
     "metadata": {},
     "output_type": "execute_result"
    }
   ],
   "source": [
    "re.split('\\W+',re_test_messy_1 ) #W = non word character"
   ]
  },
  {
   "cell_type": "code",
   "execution_count": 21,
   "metadata": {},
   "outputs": [
    {
     "data": {
      "text/plain": [
       "['This',\n",
       " 'is',\n",
       " 'a',\n",
       " 'made',\n",
       " 'up',\n",
       " 'string',\n",
       " 'to',\n",
       " 'test',\n",
       " '2',\n",
       " 'diffferent',\n",
       " 'regex',\n",
       " 'methods']"
      ]
     },
     "execution_count": 21,
     "metadata": {},
     "output_type": "execute_result"
    }
   ],
   "source": [
    "re.findall('\\S+',re_test ) # S means non white space character\n",
    "re.findall('\\S+',re_test_messy)\n",
    "re.findall('\\w+',re_test_messy_1)"
   ]
  },
  {
   "cell_type": "markdown",
   "metadata": {},
   "source": [
    "w = word, W = non word\n",
    "\n",
    "'+' means one or more\n",
    "\n",
    "s means white spaces, S means non white spaces\n",
    "\n",
    "re.split and re.findall can be used to tokenize sentences"
   ]
  },
  {
   "cell_type": "markdown",
   "metadata": {},
   "source": [
    "<font size=\"5\">Replacing a specific string</font>"
   ]
  },
  {
   "cell_type": "code",
   "execution_count": 23,
   "metadata": {},
   "outputs": [],
   "source": [
    "pep8_test = 'I try to follow PEP8 guidelines'\n",
    "pep7_test = 'I try to follow PEP7 guidelines'\n",
    "peep8_test = 'I try to follow PEEP8 guidelines'"
   ]
  },
  {
   "cell_type": "code",
   "execution_count": 28,
   "metadata": {},
   "outputs": [
    {
     "name": "stdout",
     "output_type": "stream",
     "text": [
      "['try', 'to', 'follow', 'guidelines']\n",
      "['I', 'PEP']\n",
      "['PEP8']\n",
      "['PEP7']\n",
      "['PEEP8']\n"
     ]
    }
   ],
   "source": [
    "pattern = 'PEP+'\n",
    "\n",
    "print(re.findall('[a-z]+', pep8_test))\n",
    "print(re.findall('[A-Z]+', pep8_test))\n",
    "print(re.findall('[A-Z]+[0-9]+', pep8_test))\n",
    "print(re.findall('[A-Z]+[0-9]+', pep7_test))\n",
    "print(re.findall('[A-Z]+[0-9]+', peep8_test))\n"
   ]
  },
  {
   "cell_type": "code",
   "execution_count": 31,
   "metadata": {},
   "outputs": [
    {
     "name": "stdout",
     "output_type": "stream",
     "text": [
      "1. I try to follow PEP8 Python style guide guidelines\n",
      "2. I try to follow PEP8 Python style guide guidelines\n",
      "3. I try to follow PEP8 Python style guide guidelines\n"
     ]
    }
   ],
   "source": [
    "# Replacing function\n",
    "print(\"1.\",re.sub('[A-Z]+[0-9]+', 'PEP8 Python style guide', pep8_test))\n",
    "print(\"2.\",re.sub('[A-Z]+[0-9]+', 'PEP8 Python style guide', pep7_test))\n",
    "print(\"3.\",re.sub('[A-Z]+[0-9]+', 'PEP8 Python style guide', peep8_test))"
   ]
  },
  {
   "cell_type": "markdown",
   "metadata": {},
   "source": [
    "<font size=\"5\">Other examples of regex methods</font>\n",
    "\n",
    "+ re.search()\n",
    "+ re.match()\n",
    "+ re.fullmatch()\n",
    "+ re.finditer()\n",
    "+ re.escape()"
   ]
  },
  {
   "cell_type": "code",
   "execution_count": null,
   "metadata": {},
   "outputs": [],
   "source": []
  }
 ],
 "metadata": {
  "kernelspec": {
   "display_name": "Python 3",
   "language": "python",
   "name": "python3"
  },
  "language_info": {
   "codemirror_mode": {
    "name": "ipython",
    "version": 3
   },
   "file_extension": ".py",
   "mimetype": "text/x-python",
   "name": "python",
   "nbconvert_exporter": "python",
   "pygments_lexer": "ipython3",
   "version": "3.7.4"
  }
 },
 "nbformat": 4,
 "nbformat_minor": 2
}
